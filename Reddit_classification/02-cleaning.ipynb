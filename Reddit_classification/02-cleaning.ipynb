{
 "cells": [
  {
   "cell_type": "markdown",
   "id": "2900a013-4a19-42ec-8b13-f19746956de9",
   "metadata": {},
   "source": [
    "# Cleaning"
   ]
  },
  {
   "cell_type": "markdown",
   "id": "20ff2a2d-8f82-4d74-96db-dfa297ce5b7d",
   "metadata": {},
   "source": [
    "## Import the Data"
   ]
  },
  {
   "cell_type": "code",
   "execution_count": 1,
   "id": "e86ce3b6-9ab6-425a-879a-60605e8b077b",
   "metadata": {},
   "outputs": [],
   "source": [
    "import pandas as pd"
   ]
  },
  {
   "cell_type": "code",
   "execution_count": 2,
   "id": "6b5c7507-c37a-4e43-8f52-f72cd5f987d7",
   "metadata": {},
   "outputs": [],
   "source": [
    "onion = pd.read_csv('./data/theonion.csv')\n",
    "not_onion = pd.read_csv('./data/nottheonion.csv')"
   ]
  },
  {
   "cell_type": "markdown",
   "id": "4eb81a7c-b6bd-497a-8397-52d6a7c69c2c",
   "metadata": {},
   "source": [
    "We drop the \"selftext\" column because it by and large does not contain any data - almost all of these posts are headlines only."
   ]
  },
  {
   "cell_type": "code",
   "execution_count": 3,
   "id": "fd91fd35-6747-4a67-b204-f26fd09a9008",
   "metadata": {},
   "outputs": [],
   "source": [
    "onion.drop(columns = ['selftext'], inplace = True)\n",
    "not_onion.drop(columns = ['selftext'], inplace = True)"
   ]
  },
  {
   "cell_type": "markdown",
   "id": "8ec71093-46ea-4324-82bf-bea13ccac71a",
   "metadata": {},
   "source": [
    "Here we set a target column called \"onion\", which will be binarily encoded with a 1 if the post is from the Onion and a 0 otherwise."
   ]
  },
  {
   "cell_type": "code",
   "execution_count": 4,
   "id": "6faa08c6-9e3c-4d68-96d8-9d7bc63ef280",
   "metadata": {},
   "outputs": [],
   "source": [
    "onion['onion'] = 1\n",
    "not_onion['onion'] = 0"
   ]
  },
  {
   "cell_type": "code",
   "execution_count": 5,
   "id": "02abd9a9-dc7d-4422-9f6d-29c0922505c4",
   "metadata": {},
   "outputs": [
    {
     "data": {
      "text/plain": [
       "Unnamed: 0    0\n",
       "subreddit     0\n",
       "title         0\n",
       "onion         0\n",
       "dtype: int64"
      ]
     },
     "execution_count": 5,
     "metadata": {},
     "output_type": "execute_result"
    }
   ],
   "source": [
    "onion.isnull().sum()"
   ]
  },
  {
   "cell_type": "code",
   "execution_count": 6,
   "id": "c620684a-4f2c-4689-877b-39be4ce39489",
   "metadata": {},
   "outputs": [
    {
     "data": {
      "text/plain": [
       "Unnamed: 0    0\n",
       "subreddit     0\n",
       "title         0\n",
       "onion         0\n",
       "dtype: int64"
      ]
     },
     "execution_count": 6,
     "metadata": {},
     "output_type": "execute_result"
    }
   ],
   "source": [
    "not_onion.isnull().sum()"
   ]
  },
  {
   "cell_type": "markdown",
   "id": "5144eec1-4195-4286-9367-8bf19bb255fb",
   "metadata": {},
   "source": [
    "The data is fairly clean, so the Onion and not the Onion data are combined into one data frame and exported to a csv file."
   ]
  },
  {
   "cell_type": "code",
   "execution_count": 7,
   "id": "289a0f79-4a79-405f-b0f7-1d281af42b06",
   "metadata": {},
   "outputs": [],
   "source": [
    "df = pd.concat([onion, not_onion])"
   ]
  },
  {
   "cell_type": "code",
   "execution_count": 8,
   "id": "bf91b3d5-9896-4091-927e-7eb15a300265",
   "metadata": {},
   "outputs": [
    {
     "data": {
      "text/plain": [
       "(30152, 4)"
      ]
     },
     "execution_count": 8,
     "metadata": {},
     "output_type": "execute_result"
    }
   ],
   "source": [
    "df.shape"
   ]
  },
  {
   "cell_type": "code",
   "execution_count": 9,
   "id": "98aded09-e86c-412b-b8cd-7e60d7d9911d",
   "metadata": {},
   "outputs": [],
   "source": [
    "df.to_csv('./data/combined_df.csv')"
   ]
  }
 ],
 "metadata": {
  "kernelspec": {
   "display_name": "Python 3",
   "language": "python",
   "name": "python3"
  },
  "language_info": {
   "codemirror_mode": {
    "name": "ipython",
    "version": 3
   },
   "file_extension": ".py",
   "mimetype": "text/x-python",
   "name": "python",
   "nbconvert_exporter": "python",
   "pygments_lexer": "ipython3",
   "version": "3.8.8"
  }
 },
 "nbformat": 4,
 "nbformat_minor": 5
}
