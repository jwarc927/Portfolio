{
 "cells": [
  {
   "cell_type": "markdown",
   "id": "1f0a0464-fe63-49bb-857e-b6a8b987ffb6",
   "metadata": {},
   "source": [
    "# Modeling"
   ]
  },
  {
   "cell_type": "markdown",
   "id": "14a5a139-0bf9-4f1d-bc51-6705cc2b4ffd",
   "metadata": {},
   "source": [
    "## Import Libraries and Data"
   ]
  },
  {
   "cell_type": "code",
   "execution_count": 1,
   "id": "12872e03-b811-4403-909a-f26b27b46c7d",
   "metadata": {},
   "outputs": [],
   "source": [
    "import pandas as pd\n",
    "import matplotlib.pyplot as plt\n",
    "import seaborn as sns\n",
    "import numpy as np\n",
    "import nltk\n",
    "\n",
    "from sklearn.feature_extraction.text import TfidfVectorizer\n",
    "from sklearn.ensemble import RandomForestClassifier\n",
    "from sklearn.model_selection import cross_val_score, train_test_split, GridSearchCV\n",
    "from sklearn.preprocessing import StandardScaler\n",
    "from sklearn.linear_model import LogisticRegression\n",
    "from sklearn.metrics import confusion_matrix, plot_confusion_matrix\n",
    "from sklearn.svm import SVC\n",
    "\n",
    "from IPython.display import clear_output\n",
    "\n",
    "%matplotlib inline"
   ]
  },
  {
   "cell_type": "markdown",
   "id": "14ffa306-ab6f-48c0-831e-e3f9e867d3e0",
   "metadata": {},
   "source": [
    "Next we read in the data and remove redundent index columns."
   ]
  },
  {
   "cell_type": "code",
   "execution_count": 2,
   "id": "9aced8e1-8713-4079-a1ff-5f283ab3d6cc",
   "metadata": {},
   "outputs": [],
   "source": [
    "df = pd.read_csv('./data/combined_df.csv')"
   ]
  },
  {
   "cell_type": "code",
   "execution_count": 3,
   "id": "a76ab573-e217-4123-bcd2-4b596f80a82a",
   "metadata": {},
   "outputs": [],
   "source": [
    "df.drop(columns = ['Unnamed: 0', 'Unnamed: 0.1', 'subreddit'], inplace = True)"
   ]
  },
  {
   "cell_type": "code",
   "execution_count": 4,
   "id": "3ba44e22-dd08-49b2-9455-5c87ee09c7e0",
   "metadata": {},
   "outputs": [
    {
     "data": {
      "text/html": [
       "<div>\n",
       "<style scoped>\n",
       "    .dataframe tbody tr th:only-of-type {\n",
       "        vertical-align: middle;\n",
       "    }\n",
       "\n",
       "    .dataframe tbody tr th {\n",
       "        vertical-align: top;\n",
       "    }\n",
       "\n",
       "    .dataframe thead th {\n",
       "        text-align: right;\n",
       "    }\n",
       "</style>\n",
       "<table border=\"1\" class=\"dataframe\">\n",
       "  <thead>\n",
       "    <tr style=\"text-align: right;\">\n",
       "      <th></th>\n",
       "      <th>title</th>\n",
       "      <th>onion</th>\n",
       "    </tr>\n",
       "  </thead>\n",
       "  <tbody>\n",
       "    <tr>\n",
       "      <th>0</th>\n",
       "      <td>Horrified Anti-Vaxxer Discovers Every American...</td>\n",
       "      <td>1</td>\n",
       "    </tr>\n",
       "    <tr>\n",
       "      <th>1</th>\n",
       "      <td>Holy Shit, Man Walks on the Fucking Moon</td>\n",
       "      <td>1</td>\n",
       "    </tr>\n",
       "    <tr>\n",
       "      <th>2</th>\n",
       "      <td>Signs It’s Time To Put Your Parents In A Nursi...</td>\n",
       "      <td>1</td>\n",
       "    </tr>\n",
       "    <tr>\n",
       "      <th>3</th>\n",
       "      <td>Taliban Criticized For Failure To Include Dive...</td>\n",
       "      <td>1</td>\n",
       "    </tr>\n",
       "    <tr>\n",
       "      <th>4</th>\n",
       "      <td>Nation’s Dads Announce Plans To Trade In The D...</td>\n",
       "      <td>1</td>\n",
       "    </tr>\n",
       "  </tbody>\n",
       "</table>\n",
       "</div>"
      ],
      "text/plain": [
       "                                               title  onion\n",
       "0  Horrified Anti-Vaxxer Discovers Every American...      1\n",
       "1           Holy Shit, Man Walks on the Fucking Moon      1\n",
       "2  Signs It’s Time To Put Your Parents In A Nursi...      1\n",
       "3  Taliban Criticized For Failure To Include Dive...      1\n",
       "4  Nation’s Dads Announce Plans To Trade In The D...      1"
      ]
     },
     "execution_count": 4,
     "metadata": {},
     "output_type": "execute_result"
    }
   ],
   "source": [
    "df.head()"
   ]
  },
  {
   "cell_type": "markdown",
   "id": "9463fd42-855c-451b-a5c3-346446155716",
   "metadata": {},
   "source": [
    "## Vectorization"
   ]
  },
  {
   "cell_type": "code",
   "execution_count": 5,
   "id": "c3ec847a-66dc-4497-92ab-793a0e4f8add",
   "metadata": {},
   "outputs": [],
   "source": [
    "tvec = TfidfVectorizer(stop_words = 'english')\n",
    "\n",
    "df_tfid = pd.DataFrame(tvec.fit_transform(df['title']).todense(), columns = tvec.get_feature_names())"
   ]
  },
  {
   "cell_type": "code",
   "execution_count": 6,
   "id": "5fef6882-a2b3-4ae6-8cb5-037b9ecc26a2",
   "metadata": {},
   "outputs": [
    {
     "data": {
      "text/plain": [
       "(30152, 26880)"
      ]
     },
     "execution_count": 6,
     "metadata": {},
     "output_type": "execute_result"
    }
   ],
   "source": [
    "df_tfid.shape"
   ]
  },
  {
   "cell_type": "markdown",
   "id": "7f5dfa34-aff6-463a-8f5e-d0def14820e8",
   "metadata": {},
   "source": [
    "In order to reduce processing time we drop tfidf objects with lower values.  These correspond to words that are not prevalent enough to have much impact on the classification algorithms.  By removing these we also greatly reduce processing time."
   ]
  },
  {
   "cell_type": "code",
   "execution_count": 7,
   "id": "e02e4dc0-ca6a-4bac-afb6-12e7696daeda",
   "metadata": {},
   "outputs": [
    {
     "name": "stdout",
     "output_type": "stream",
     "text": [
      "휴게텔 0.17530435651772988\n"
     ]
    }
   ],
   "source": [
    "# Note that this cell take about 10 minutes to run.\n",
    "\n",
    "drop_list = []\n",
    "for column in df_tfid.columns:\n",
    "    word_score = df_tfid[column].sum()\n",
    "    if word_score < 50:\n",
    "        clear_output()\n",
    "        print(column , word_score)\n",
    "        drop_list.append(column)\n"
   ]
  },
  {
   "cell_type": "code",
   "execution_count": 8,
   "id": "77c91ad2-65a4-446f-9ca9-d06e1a8440f9",
   "metadata": {},
   "outputs": [],
   "source": [
    "X = df_tfid.drop(columns = drop_list)"
   ]
  },
  {
   "cell_type": "code",
   "execution_count": 9,
   "id": "8fa03f6d-6e4c-43dc-9506-e9d690e28e6d",
   "metadata": {},
   "outputs": [],
   "source": [
    "X_train, X_test, y_train, y_test = train_test_split(X, df['onion'], random_state = 42, stratify = df['onion'], test_size = 0.3)"
   ]
  },
  {
   "cell_type": "code",
   "execution_count": 10,
   "id": "7cc96793-43bc-4761-a7b5-cd08ba4a0817",
   "metadata": {},
   "outputs": [
    {
     "data": {
      "text/plain": [
       "(9046, 127)"
      ]
     },
     "execution_count": 10,
     "metadata": {},
     "output_type": "execute_result"
    }
   ],
   "source": [
    "X_test.shape"
   ]
  },
  {
   "cell_type": "markdown",
   "id": "2d713929-0da0-47df-b7bb-39f466c48752",
   "metadata": {},
   "source": [
    "## Models\n",
    "\n",
    "### SVC"
   ]
  },
  {
   "cell_type": "markdown",
   "id": "1621884c-69d6-458e-bde5-45c04a442c23",
   "metadata": {},
   "source": [
    "First we try an SVC model."
   ]
  },
  {
   "cell_type": "code",
   "execution_count": 11,
   "id": "980e5ef6-8eb0-4dc2-9f16-f9edf6134fe9",
   "metadata": {},
   "outputs": [],
   "source": [
    "svc = SVC()"
   ]
  },
  {
   "cell_type": "code",
   "execution_count": 12,
   "id": "9cebbaf1-104b-44bf-b99f-bfbdc364e4ad",
   "metadata": {},
   "outputs": [
    {
     "data": {
      "text/plain": [
       "SVC()"
      ]
     },
     "execution_count": 12,
     "metadata": {},
     "output_type": "execute_result"
    }
   ],
   "source": [
    "svc.fit(X_train, y_train)"
   ]
  },
  {
   "cell_type": "markdown",
   "id": "24d9b6b9-ff5d-4a16-b422-6808fec2b961",
   "metadata": {},
   "source": [
    "### Random Forest"
   ]
  },
  {
   "cell_type": "markdown",
   "id": "4982aa83-f173-4a3e-a6e4-7da5a454c1cd",
   "metadata": {},
   "source": [
    "For the Random Forest model we will do a grid search to look for the best parameters."
   ]
  },
  {
   "cell_type": "code",
   "execution_count": 13,
   "id": "6352f133-7e59-49d0-a501-3f30272f91b0",
   "metadata": {},
   "outputs": [
    {
     "name": "stdout",
     "output_type": "stream",
     "text": [
      "Fitting 5 folds for each of 9 candidates, totalling 45 fits\n",
      "0.6739792162779077\n"
     ]
    },
    {
     "data": {
      "text/plain": [
       "{'max_depth': 11, 'max_features': 'sqrt', 'n_estimators': 200}"
      ]
     },
     "execution_count": 13,
     "metadata": {},
     "output_type": "execute_result"
    }
   ],
   "source": [
    "rf = RandomForestClassifier()\n",
    "\n",
    "rf_params = {\n",
    "    'n_estimators' : [150, 200, 250],\n",
    "    'max_depth' : [9, 10, 11],\n",
    "    'max_features' : ['sqrt']\n",
    "}\n",
    "\n",
    "gs = GridSearchCV(rf, rf_params, cv = 5, n_jobs = -1, verbose = 2)\n",
    "gs.fit(X_train, y_train)\n",
    "print(gs.best_score_)\n",
    "gs.best_params_"
   ]
  },
  {
   "cell_type": "markdown",
   "id": "09843b74-200e-4f49-8ed4-f282978befe8",
   "metadata": {},
   "source": [
    "### Logistic Regression"
   ]
  },
  {
   "cell_type": "markdown",
   "id": "6b737f2b-07f9-491c-b769-bdf26c2f7426",
   "metadata": {},
   "source": [
    "For the logistic regression model we need to use the standard scaler to adjust our TFIDF values."
   ]
  },
  {
   "cell_type": "code",
   "execution_count": 14,
   "id": "a0d8afd3-5e82-4d79-b4c4-7d922d9748b3",
   "metadata": {},
   "outputs": [
    {
     "data": {
      "text/plain": [
       "LogisticRegression()"
      ]
     },
     "execution_count": 14,
     "metadata": {},
     "output_type": "execute_result"
    }
   ],
   "source": [
    "ss = StandardScaler()\n",
    "\n",
    "Z_train = ss.fit_transform(X_train)\n",
    "Z_test = ss.transform(X_test)\n",
    "\n",
    "logreg = LogisticRegression()\n",
    "\n",
    "logreg.fit(Z_train, y_train)"
   ]
  },
  {
   "cell_type": "markdown",
   "id": "22514533-e130-4f15-a72e-9ec0e4e93937",
   "metadata": {},
   "source": [
    "### Make Predictions"
   ]
  },
  {
   "cell_type": "markdown",
   "id": "dab0880e-fb04-409c-99b5-cc247d04d5a0",
   "metadata": {},
   "source": [
    "Next we will make predictions using the three models we've fit and examine the confusion matrices to see which models perform best."
   ]
  },
  {
   "cell_type": "code",
   "execution_count": 15,
   "id": "36537da2-3c3f-4b26-9b4e-16176944009d",
   "metadata": {},
   "outputs": [],
   "source": [
    "y_svc = svc.predict(X_test)\n",
    "y_rf = gs.predict(X_test)\n",
    "y_lr = logreg.predict(Z_test)"
   ]
  },
  {
   "cell_type": "code",
   "execution_count": 16,
   "id": "29bc25a9-46bb-47ef-9f78-e44ba0bee562",
   "metadata": {},
   "outputs": [],
   "source": [
    "probs = (y_svc + y_rf + y_lr) / 3"
   ]
  },
  {
   "cell_type": "code",
   "execution_count": 17,
   "id": "2cc48f5e-81dd-4380-9b11-c9af7d89fcf4",
   "metadata": {},
   "outputs": [
    {
     "name": "stdout",
     "output_type": "stream",
     "text": [
      "SVC RESULTS\n",
      "The Accuracy is: 0.705505195666593 \n",
      "The Recall is: 0.5637732506643047 \n",
      "The Precision is: 0.7858024691358024 \n",
      "The F1 Score is: 0.6565239814337287\n"
     ]
    },
    {
     "data": {
      "image/png": "[encoded data removed]",
      "text/plain": [
       "<Figure size 432x288 with 2 Axes>"
      ]
     },
     "metadata": {
      "needs_background": "light"
     },
     "output_type": "display_data"
    }
   ],
   "source": [
    "tn, fp, fn, tp = confusion_matrix(y_test, y_svc).ravel()\n",
    "\n",
    "acc = (tp + tn) / (tp + tn + fp + fn)\n",
    "rec = tp / (tp + fn)\n",
    "prec = tp / (tp + fp)\n",
    "f_1 = tp / (tp + 0.5 * (fp + fn))\n",
    "\n",
    "print(\"SVC RESULTS\")\n",
    "print(f\"The Accuracy is: {acc} \\nThe Recall is: {rec} \\nThe Precision is: {prec} \\nThe F1 Score is: {f_1}\")\n",
    "\n",
    "\n",
    "plot_confusion_matrix(svc, X_test, y_test, cmap='Blues', \n",
    "                      values_format='d', display_labels=['Not Onion', 'Onion']);"
   ]
  },
  {
   "cell_type": "code",
   "execution_count": 18,
   "id": "adc44231-092a-4329-ab2a-5f19fa319a39",
   "metadata": {},
   "outputs": [
    {
     "name": "stdout",
     "output_type": "stream",
     "text": [
      "LOGISTIC REGRESSION RESULTS\n",
      "The Accuracy is: 0.6853858058810524 \n",
      "The Recall is: 0.5617803365810452 \n",
      "The Precision is: 0.7452996474735605 \n",
      "The F1 Score is: 0.6406565656565657\n"
     ]
    },
    {
     "data": {
      "image/png": "[encoded data removed]",
      "text/plain": [
       "<Figure size 432x288 with 2 Axes>"
      ]
     },
     "metadata": {
      "needs_background": "light"
     },
     "output_type": "display_data"
    }
   ],
   "source": [
    "tn, fp, fn, tp = confusion_matrix(y_test, y_lr).ravel()\n",
    "\n",
    "acc = (tp + tn) / (tp + tn + fp + fn)\n",
    "rec = tp / (tp + fn)\n",
    "prec = tp / (tp + fp)\n",
    "f_1 = tp / (tp + 0.5 * (fp + fn))\n",
    "\n",
    "print(\"LOGISTIC REGRESSION RESULTS\")\n",
    "print(f\"The Accuracy is: {acc} \\nThe Recall is: {rec} \\nThe Precision is: {prec} \\nThe F1 Score is: {f_1}\")\n",
    "\n",
    "plot_confusion_matrix(logreg, Z_test, y_test, cmap='Blues', \n",
    "                      values_format='d', display_labels=['Not Onion', 'Onion']);"
   ]
  },
  {
   "cell_type": "code",
   "execution_count": 19,
   "id": "f8461278-28b8-4ce7-9fe5-a778824ea678",
   "metadata": {},
   "outputs": [
    {
     "name": "stdout",
     "output_type": "stream",
     "text": [
      "RANDOM FOREST RESULTS\n",
      "The Accuracy is: 0.6749944726951138 \n",
      "The Recall is: 0.48516386182462357 \n",
      "The Precision is: 0.7808267997148967 \n",
      "The F1 Score is: 0.5984703632887189\n"
     ]
    },
    {
     "data": {
      "image/png": "[encoded data removed]",
      "text/plain": [
       "<Figure size 432x288 with 2 Axes>"
      ]
     },
     "metadata": {
      "needs_background": "light"
     },
     "output_type": "display_data"
    }
   ],
   "source": [
    "tn, fp, fn, tp = confusion_matrix(y_test, y_rf).ravel()\n",
    "\n",
    "acc = (tp + tn) / (tp + tn + fp + fn)\n",
    "rec = tp / (tp + fn)\n",
    "prec = tp / (tp + fp)\n",
    "f_1 = tp / (tp + 0.5 * (fp + fn))\n",
    "\n",
    "print(\"RANDOM FOREST RESULTS\")\n",
    "print(f\"The Accuracy is: {acc} \\nThe Recall is: {rec} \\nThe Precision is: {prec} \\nThe F1 Score is: {f_1}\")\n",
    "\n",
    "plot_confusion_matrix(gs, X_test, y_test, cmap='Blues', \n",
    "                      values_format='d', display_labels=['Not Onion', 'Onion']);"
   ]
  },
  {
   "cell_type": "code",
   "execution_count": 20,
   "id": "77565857-d378-4777-9d4f-f3e43f5d177f",
   "metadata": {},
   "outputs": [
    {
     "name": "stdout",
     "output_type": "stream",
     "text": [
      "ENSEMBLE RESULTS\n",
      "The Accuracy is: 0.6923502100375857 \n",
      "The Recall is: 0.5451727192205491 \n",
      "The Precision is: 0.7715449702287684 \n",
      "The F1 Score is: 0.6388997015700013\n"
     ]
    }
   ],
   "source": [
    "tn, fp, fn, tp = confusion_matrix(y_test, (probs > .5).astype(int)).ravel()\n",
    "\n",
    "acc = (tp + tn) / (tp + tn + fp + fn)\n",
    "rec = tp / (tp + fn)\n",
    "prec = tp / (tp + fp)\n",
    "f_1 = tp / (tp + 0.5 * (fp + fn))\n",
    "\n",
    "print(\"ENSEMBLE RESULTS\")\n",
    "print(f\"The Accuracy is: {acc} \\nThe Recall is: {rec} \\nThe Precision is: {prec} \\nThe F1 Score is: {f_1}\")"
   ]
  },
  {
   "cell_type": "markdown",
   "id": "a5220b9b-10ee-40bc-bff9-3ce17dca0605",
   "metadata": {},
   "source": [
    "Finally, we examine the words that were most important to the model."
   ]
  },
  {
   "cell_type": "code",
   "execution_count": 21,
   "id": "941f7a5d-3cbc-4cf7-9d40-902f4486d2e8",
   "metadata": {},
   "outputs": [
    {
     "data": {
      "image/png": "[encoded data removed]",
      "text/plain": [
       "<Figure size 432x288 with 1 Axes>"
      ]
     },
     "metadata": {
      "needs_background": "light"
     },
     "output_type": "display_data"
    }
   ],
   "source": [
    "pd.Series(gs.best_estimator_.feature_importances_, X.columns).sort_values(ascending = False).head(20).plot(kind = 'barh', title='Top 20 Important Words');"
   ]
  },
  {
   "cell_type": "markdown",
   "id": "a801bad5-e7ce-4f42-8187-e0dbe7f140b5",
   "metadata": {},
   "source": [
    "## Conclusion"
   ]
  },
  {
   "cell_type": "markdown",
   "id": "60e51882-6ccc-4206-a556-c74bfec6b9e0",
   "metadata": {},
   "source": [
    "Based on these results, the recommended model is the SVM because it is better than every other model in every metric except for the precision of the Random Forest model.  However, the Random Forest model's poor recall and low accuracy disqualify it as the best."
   ]
  },
  {
   "cell_type": "code",
   "execution_count": null,
   "id": "e36ad5d8-c27f-4ae4-8ecc-91d26f9db661",
   "metadata": {},
   "outputs": [],
   "source": []
  }
 ],
 "metadata": {
  "kernelspec": {
   "display_name": "Python 3",
   "language": "python",
   "name": "python3"
  },
  "language_info": {
   "codemirror_mode": {
    "name": "ipython",
    "version": 3
   },
   "file_extension": ".py",
   "mimetype": "text/x-python",
   "name": "python",
   "nbconvert_exporter": "python",
   "pygments_lexer": "ipython3",
   "version": "3.8.8"
  }
 },
 "nbformat": 4,
 "nbformat_minor": 5
}
