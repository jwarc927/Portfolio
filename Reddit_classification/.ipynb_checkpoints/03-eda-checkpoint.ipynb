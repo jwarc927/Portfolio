{
 "cells": [
  {
   "cell_type": "markdown",
   "id": "70a6739f-866c-4f52-92a0-e7ca911d8484",
   "metadata": {},
   "source": [
    "# EDA"
   ]
  },
  {
   "cell_type": "markdown",
   "id": "8a81666a-81aa-4dd5-a404-9d75f1164ab5",
   "metadata": {},
   "source": [
    "## Import Libraries and Data"
   ]
  },
  {
   "cell_type": "code",
   "execution_count": 2,
   "id": "6350f608-b484-4d42-a495-9fd596f84eee",
   "metadata": {},
   "outputs": [],
   "source": [
    "import pandas as pd\n",
    "import matplotlib.pyplot as plt\n",
    "import seaborn as sns\n",
    "import numpy as np\n",
    "import nltk\n",
    "\n",
    "from nltk.sentiment.vader import SentimentIntensityAnalyzer\n",
    "from sklearn.feature_extraction.text import CountVectorizer, TfidfVectorizer\n",
    "\n",
    "%matplotlib inline"
   ]
  },
  {
   "cell_type": "code",
   "execution_count": 3,
   "id": "3a95a46b-36c2-4ea8-9e61-ab68d8c65ea6",
   "metadata": {},
   "outputs": [],
   "source": [
    "onion = pd.read_csv('./data/theonion.csv')\n",
    "not_onion = pd.read_csv('./data/nottheonion.csv')"
   ]
  },
  {
   "cell_type": "code",
   "execution_count": 4,
   "id": "3ae1fff8-3414-486a-ac68-387c8bb3b890",
   "metadata": {},
   "outputs": [
    {
     "data": {
      "text/html": [
       "<div>\n",
       "<style scoped>\n",
       "    .dataframe tbody tr th:only-of-type {\n",
       "        vertical-align: middle;\n",
       "    }\n",
       "\n",
       "    .dataframe tbody tr th {\n",
       "        vertical-align: top;\n",
       "    }\n",
       "\n",
       "    .dataframe thead th {\n",
       "        text-align: right;\n",
       "    }\n",
       "</style>\n",
       "<table border=\"1\" class=\"dataframe\">\n",
       "  <thead>\n",
       "    <tr style=\"text-align: right;\">\n",
       "      <th></th>\n",
       "      <th>Unnamed: 0</th>\n",
       "      <th>subreddit</th>\n",
       "      <th>title</th>\n",
       "      <th>selftext</th>\n",
       "    </tr>\n",
       "  </thead>\n",
       "  <tbody>\n",
       "    <tr>\n",
       "      <th>0</th>\n",
       "      <td>0</td>\n",
       "      <td>TheOnion</td>\n",
       "      <td>Horrified Anti-Vaxxer Discovers Every American...</td>\n",
       "      <td>NaN</td>\n",
       "    </tr>\n",
       "    <tr>\n",
       "      <th>1</th>\n",
       "      <td>1</td>\n",
       "      <td>TheOnion</td>\n",
       "      <td>Holy Shit, Man Walks on the Fucking Moon</td>\n",
       "      <td>NaN</td>\n",
       "    </tr>\n",
       "    <tr>\n",
       "      <th>2</th>\n",
       "      <td>2</td>\n",
       "      <td>TheOnion</td>\n",
       "      <td>Signs It’s Time To Put Your Parents In A Nursi...</td>\n",
       "      <td>NaN</td>\n",
       "    </tr>\n",
       "    <tr>\n",
       "      <th>3</th>\n",
       "      <td>3</td>\n",
       "      <td>TheOnion</td>\n",
       "      <td>Taliban Criticized For Failure To Include Dive...</td>\n",
       "      <td>NaN</td>\n",
       "    </tr>\n",
       "    <tr>\n",
       "      <th>4</th>\n",
       "      <td>4</td>\n",
       "      <td>TheOnion</td>\n",
       "      <td>Nation’s Dads Announce Plans To Trade In The D...</td>\n",
       "      <td>NaN</td>\n",
       "    </tr>\n",
       "  </tbody>\n",
       "</table>\n",
       "</div>"
      ],
      "text/plain": [
       "   Unnamed: 0 subreddit                                              title  \\\n",
       "0           0  TheOnion  Horrified Anti-Vaxxer Discovers Every American...   \n",
       "1           1  TheOnion           Holy Shit, Man Walks on the Fucking Moon   \n",
       "2           2  TheOnion  Signs It’s Time To Put Your Parents In A Nursi...   \n",
       "3           3  TheOnion  Taliban Criticized For Failure To Include Dive...   \n",
       "4           4  TheOnion  Nation’s Dads Announce Plans To Trade In The D...   \n",
       "\n",
       "  selftext  \n",
       "0      NaN  \n",
       "1      NaN  \n",
       "2      NaN  \n",
       "3      NaN  \n",
       "4      NaN  "
      ]
     },
     "execution_count": 4,
     "metadata": {},
     "output_type": "execute_result"
    }
   ],
   "source": [
    "onion.head()"
   ]
  },
  {
   "cell_type": "markdown",
   "id": "dfc72ef3-4fbd-4fa3-9989-1b8d931abe04",
   "metadata": {},
   "source": [
    "## Top Words\n",
    "\n",
    "First we will check the 10 most common words in the onion and not the onion data.  Note that english stop words are removed."
   ]
  },
  {
   "cell_type": "code",
   "execution_count": 5,
   "id": "50fb9bd6-518b-4114-b434-ddec81a32d06",
   "metadata": {},
   "outputs": [],
   "source": [
    "cv = CountVectorizer(stop_words = 'english', ngram_range = (1,1))\n",
    "\n",
    "onion_vect = cv.fit_transform(onion['title'])\n",
    "onion_df = pd.DataFrame(onion_vect.todense(), columns = cv.get_feature_names())\n",
    "\n",
    "not_onion_vect = cv.fit_transform(not_onion['title'])\n",
    "not_onion_df = pd.DataFrame(not_onion_vect.todense(), columns = cv.get_feature_names())"
   ]
  },
  {
   "cell_type": "code",
   "execution_count": 6,
   "id": "2eaf7644-dfdf-4b13-9e8b-d2f5b88d6df4",
   "metadata": {},
   "outputs": [
    {
     "data": {
      "image/png": "[encoded data removed]",
      "text/plain": [
       "<Figure size 1152x432 with 2 Axes>"
      ]
     },
     "metadata": {
      "needs_background": "light"
     },
     "output_type": "display_data"
    }
   ],
   "source": [
    "fig, ax = plt.subplots(1, 2, figsize=(16,6))\n",
    "onion_df.sum().sort_values(ascending=False).head(10).plot(kind='barh', ax=ax[0], fontsize=14)\n",
    "not_onion_df.sum().sort_values(ascending=False).head(10).plot(kind='barh', ax=ax[1], fontsize=14)\n",
    "\n",
    "ax[0].set_title('The Onion', fontsize=18)\n",
    "ax[1].set_title('Not The Onion', fontsize=18)\n",
    "ax[0].invert_yaxis()\n",
    "ax[1].invert_yaxis()\n",
    "\n",
    "fig.suptitle('Top 10 Words in Reddit Titles:', fontsize=24)\n",
    "fig.text(0.5, 0.04, 'Number of Occurances', ha='center', fontsize=18);"
   ]
  },
  {
   "cell_type": "markdown",
   "id": "c9f38b08-c131-4741-9385-a50b1d7dad6e",
   "metadata": {},
   "source": [
    "Here we see that there are some similarities in words like \"man\" or \"new\", but there are enough differences to suggest that this will be a useful way to draw categories."
   ]
  },
  {
   "cell_type": "markdown",
   "id": "854351e5-c975-4e4b-92f5-3833d32e2539",
   "metadata": {},
   "source": [
    "## Sentiment Analysis"
   ]
  },
  {
   "cell_type": "markdown",
   "id": "e102c539-fb9d-4bff-a4f8-c9b8b4884e13",
   "metadata": {},
   "source": [
    "Next we will examine the sentiment of the text to see if there is an important difference between the two datasets."
   ]
  },
  {
   "cell_type": "code",
   "execution_count": 7,
   "id": "3f08e10d-5c57-4ab5-86f2-a1be4c38ecc9",
   "metadata": {},
   "outputs": [
    {
     "name": "stderr",
     "output_type": "stream",
     "text": [
      "[nltk_data] Downloading package vader_lexicon to\n",
      "[nltk_data]     C:\\Users\\jeffw\\AppData\\Roaming\\nltk_data...\n",
      "[nltk_data]   Package vader_lexicon is already up-to-date!\n"
     ]
    },
    {
     "data": {
      "text/plain": [
       "True"
      ]
     },
     "execution_count": 7,
     "metadata": {},
     "output_type": "execute_result"
    }
   ],
   "source": [
    "nltk.download('vader_lexicon')"
   ]
  },
  {
   "cell_type": "code",
   "execution_count": 8,
   "id": "caca1bd4-8257-4b7f-8c15-8cacad769e83",
   "metadata": {},
   "outputs": [],
   "source": [
    "sia = SentimentIntensityAnalyzer()"
   ]
  },
  {
   "cell_type": "code",
   "execution_count": 9,
   "id": "282df972-171a-4d91-ba52-2fea9b4a88fe",
   "metadata": {},
   "outputs": [],
   "source": [
    "onion['sentiment'] = onion['title'].map(lambda x: sia.polarity_scores(x)['compound'])\n",
    "not_onion['sentiment'] = not_onion['title'].map(lambda x: sia.polarity_scores(x)['compound'])"
   ]
  },
  {
   "cell_type": "code",
   "execution_count": 10,
   "id": "8069a741-70b6-4b10-be71-728cb5228e16",
   "metadata": {},
   "outputs": [
    {
     "data": {
      "image/png": "[encoded data removed]",
      "text/plain": [
       "<Figure size 432x288 with 1 Axes>"
      ]
     },
     "metadata": {
      "needs_background": "light"
     },
     "output_type": "display_data"
    }
   ],
   "source": [
    "onion['sentiment'].plot(kind = 'hist', xlabel = 'Sentiment Score', title = 'Sentiment of Onion Headlines');"
   ]
  },
  {
   "cell_type": "code",
   "execution_count": 11,
   "id": "bd076a78-5273-4ce1-bcac-7a6933d93dc0",
   "metadata": {},
   "outputs": [
    {
     "data": {
      "image/png": "[encoded data removed]",
      "text/plain": [
       "<Figure size 432x288 with 1 Axes>"
      ]
     },
     "metadata": {
      "needs_background": "light"
     },
     "output_type": "display_data"
    }
   ],
   "source": [
    "not_onion['sentiment'].plot(kind = 'hist', xlabel = 'Sentiment Score', title = 'Sentiment of Not Onion Headlines');"
   ]
  },
  {
   "cell_type": "markdown",
   "id": "63d8bbaf-ece7-4fe2-a658-64dee7680088",
   "metadata": {},
   "source": [
    "We see that there is almost no difference in sentiment, so this is unlikely to be a useful feature."
   ]
  },
  {
   "cell_type": "markdown",
   "id": "6667bd7f-bd07-40f2-bd1c-485a4a498e1e",
   "metadata": {},
   "source": [
    "## TFIDF Vecorizer\n",
    "\n",
    "Lastly, we will use the TFIDF vectorizer to help reduce the weights of words that appear either too frequently or very infrequently and then examine how this compares with the simple word counter."
   ]
  },
  {
   "cell_type": "code",
   "execution_count": 12,
   "id": "c04a4757-244b-41d2-a81d-3f47d039291e",
   "metadata": {},
   "outputs": [],
   "source": [
    "tvec = TfidfVectorizer(stop_words = 'english')"
   ]
  },
  {
   "cell_type": "code",
   "execution_count": 13,
   "id": "5dd1eaf7-598c-4a9a-b1d1-b1ef13700a68",
   "metadata": {},
   "outputs": [],
   "source": [
    "onion_tfid = pd.DataFrame(tvec.fit_transform(onion['title']).todense(), columns = tvec.get_feature_names())\n",
    "not_onion_tfid = pd.DataFrame(tvec.fit_transform(not_onion['title']).todense(), columns = tvec.get_feature_names())"
   ]
  },
  {
   "cell_type": "code",
   "execution_count": 14,
   "id": "558e283c-1bd2-42b6-857d-f7e46a468a53",
   "metadata": {},
   "outputs": [
    {
     "data": {
      "text/plain": [
       "<AxesSubplot:>"
      ]
     },
     "execution_count": 14,
     "metadata": {},
     "output_type": "execute_result"
    },
    {
     "data": {
      "image/png": "[encoded data removed]",
      "text/plain": [
       "<Figure size 432x288 with 1 Axes>"
      ]
     },
     "metadata": {
      "needs_background": "light"
     },
     "output_type": "display_data"
    }
   ],
   "source": [
    "onion_tfid.sum().sort_values(ascending = False).head(20).plot(kind = 'barh')"
   ]
  },
  {
   "cell_type": "code",
   "execution_count": 15,
   "id": "e25dad30-a637-4c7f-b90a-812e32b777d4",
   "metadata": {},
   "outputs": [
    {
     "data": {
      "text/plain": [
       "<AxesSubplot:>"
      ]
     },
     "execution_count": 15,
     "metadata": {},
     "output_type": "execute_result"
    },
    {
     "data": {
      "image/png": "[encoded data removed]",
      "text/plain": [
       "<Figure size 432x288 with 1 Axes>"
      ]
     },
     "metadata": {
      "needs_background": "light"
     },
     "output_type": "display_data"
    }
   ],
   "source": [
    "not_onion_tfid.sum().sort_values(ascending = False).head(20).plot(kind = 'barh')"
   ]
  },
  {
   "cell_type": "markdown",
   "id": "1bf28c37-bd6d-48e7-8c5a-96194b51cdb7",
   "metadata": {},
   "source": [
    "These results are not that dissimilar to the results of the simple Count Vectorizer, but there is a more continuous change in the value of these features.  THerefore, we will use this one for our modeling."
   ]
  },
  {
   "cell_type": "code",
   "execution_count": null,
   "id": "8e104483-3f46-4481-93fe-6fb6874dcf31",
   "metadata": {},
   "outputs": [],
   "source": []
  }
 ],
 "metadata": {
  "kernelspec": {
   "display_name": "Python 3",
   "language": "python",
   "name": "python3"
  },
  "language_info": {
   "codemirror_mode": {
    "name": "ipython",
    "version": 3
   },
   "file_extension": ".py",
   "mimetype": "text/x-python",
   "name": "python",
   "nbconvert_exporter": "python",
   "pygments_lexer": "ipython3",
   "version": "3.8.8"
  }
 },
 "nbformat": 4,
 "nbformat_minor": 5
}
