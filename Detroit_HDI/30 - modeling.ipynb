{
 "cells": [
  {
   "cell_type": "markdown",
   "id": "49445c69-9711-48e2-a099-59b14fef6e18",
   "metadata": {},
   "source": [
    "# Modeling\n",
    "\n",
    "## Strategy\n",
    "\n",
    "Fundamentally, this is an inference project, so the primary goal is to find a reasonably robust model from which we can extract insights as to what should be focused on in Detroit to best improve the HDI.  Nonetheless, we will attempt to fit some less interpretable models to see if we can make more accurate predictions.  Therefore, we will look at regularized multi-variate linear regression, k-nearest neighbors, and decsion tree based models."
   ]
  },
  {
   "cell_type": "code",
   "execution_count": 1,
   "id": "0d0d200b-ad05-4ebe-a850-8e40861ee0ff",
   "metadata": {},
   "outputs": [],
   "source": [
    "# Base libraries\n",
    "import pandas as pd\n",
    "import numpy as np\n",
    "import matplotlib.pyplot as plt\n",
    "import seaborn as sns\n",
    "\n",
    "# sklearn libraries \n",
    "from sklearn.model_selection import train_test_split, GridSearchCV\n",
    "from sklearn.preprocessing import StandardScaler\n",
    "from sklearn.linear_model import ElasticNetCV\n",
    "from sklearn.neighbors import KNeighborsRegressor\n",
    "from sklearn.ensemble import RandomForestRegressor, AdaBoostRegressor, BaggingRegressor\n",
    "from sklearn import metrics\n",
    "\n",
    "# xgboost\n",
    "from xgboost import XGBRegressor"
   ]
  },
  {
   "cell_type": "code",
   "execution_count": 2,
   "id": "03a315b8-b6ea-42f5-9b14-b1905973fa25",
   "metadata": {},
   "outputs": [],
   "source": [
    "df = pd.read_csv('./data/clean_data.csv')\n",
    "hdi = pd.read_csv('./data/country_hdi.csv')"
   ]
  },
  {
   "cell_type": "markdown",
   "id": "158a290e-1b04-4c59-b63e-72056f4b0d2c",
   "metadata": {},
   "source": [
    "Here we'll make a train and test set using all of the numeric data in our dataframe with the exception of the HDI (which is our target) and the calculated intermediate indices that were used to calculate the HDI.  The data for Wayne County, MI will also be seperated from the whole to use as a final check at the end of modeling."
   ]
  },
  {
   "cell_type": "code",
   "execution_count": 3,
   "id": "4d76b0f0-0f88-4bab-aafa-e6e80c9cc460",
   "metadata": {},
   "outputs": [],
   "source": [
    "county = 'Wayne County'\n",
    "state = 'MI'\n",
    "county_input = county + ', ' + state\n",
    "county_x = df[df['Description'] == county_input].select_dtypes(include=[np.number]).drop(columns = ['LE', 'II', 'MYS', 'EI', 'HDI'])\n",
    "county_y = df[df['Description'] == county_input]['HDI']\n",
    "\n",
    "X = df[df['Description'] != county_input].select_dtypes(include=[np.number]).drop(columns = ['LE', 'II', 'MYS', 'EI', 'HDI'])\n",
    "y = df[df['Description'] != county_input]['HDI']"
   ]
  },
  {
   "cell_type": "markdown",
   "id": "1852fa23-1e3a-4a57-8859-f82a959eda1c",
   "metadata": {},
   "source": [
    "First we will remove highly colinear features.  The strategy here is to compare every pair of features to see if they are colinear and, if they are, remove the one that is less correlated to the target feature of HDI.  This will be important in the final interpretation because if, for example, health is the most important feature and income is the second most important we would like to see both of these results instead of simply a series of highly correlated health features.\n",
    "\n",
    "We experimented with a number of different colinearity coefficients to optimize the results, ultimately settling on aprroximately two-thirds (0.67) as the best trade off between predictive power of the model and usefulness of results.\n",
    "\n",
    "A list of the highly colinear features that are removed from the data is returned from this function."
   ]
  },
  {
   "cell_type": "code",
   "execution_count": 4,
   "id": "46832d9e-7e50-4572-b7ae-7507e64dc7f2",
   "metadata": {},
   "outputs": [
    {
     "data": {
      "text/plain": [
       "['emp. in social assistance and outreach industries per 10,000 population',\n",
       " 'Violent Crime Rate',\n",
       " 'Interest on debt per pupil',\n",
       " 'Worked Outside County of Residence   rate',\n",
       " 'GDP per worker growth, 2001-2016',\n",
       " 'Percent of the civilian population that is uninsured',\n",
       " 'Total workers 16+ commuting to work, 2016 rate',\n",
       " 'Percent of returns with self-emp. retirement plans',\n",
       " 'Percent of current spending for instruction',\n",
       " 'Percent of working populaiton that drove to work alone',\n",
       " 'Violent crime events per 1,000 population',\n",
       " 'Poor physical health days per month',\n",
       " 'Percent of working population that walked to work',\n",
       " 'Proportion of single-parent households',\n",
       " 'Poor mental health days per month',\n",
       " 'Percent of returns with contributions',\n",
       " '% Children in Poverty',\n",
       " 'Percent of returns that are farm returns',\n",
       " 'Percent of working population that took public transit (excluding taxicabs) to work',\n",
       " 'Percent of total revenue from local sources',\n",
       " '2010 population',\n",
       " 'Teen Birth Rate',\n",
       " 'Percent of population not lacking basica prose skills',\n",
       " 'Number of tax returns, 2015 rate',\n",
       " 'Percent of civilian population aged 18-64 that is uninsured',\n",
       " 'Percent of total expenditures for current spending',\n",
       " 'Percent of returns with self-emp. tax',\n",
       " 'Share of emp. in the 2nd-largest local industry',\n",
       " '% Excessive Drinking',\n",
       " 'emp. in creative class occupations, 2007-11 average rate',\n",
       " 'Share of emp. in Creative Class occupations, 2007-11 avg',\n",
       " 'Ratio of total capital outlays to elementary-secondary expenditures',\n",
       " 'Percent of population that has low access to grocery stores',\n",
       " 'Percent of returns with self-emp. health insurance deduction',\n",
       " 'SNAP benefits per capita',\n",
       " 'Percent of working-age population that works 48-52 weeks per year',\n",
       " 'Percent of working-age population working full-time, year-round',\n",
       " 'Poverty rate',\n",
       " 'emp. in arts occupations, 2007-11 average rate',\n",
       " 'crime rate per 100000',\n",
       " 'Percent of civilian population aged 25-34 that is insured',\n",
       " '% Children in Single-Parent Households',\n",
       " 'Natural amenity rank, 1=7, 7= high',\n",
       " 'emp., 2007-11 average rate',\n",
       " 'Percent of returns with partnership/S-Corp net income (less loss)',\n",
       " 'Total school revenue from federal sources, thousands of current dollars rate',\n",
       " 'Social Association Rate',\n",
       " '% Fair or Poor Health',\n",
       " 'Larceny rate per 100000',\n",
       " 'Annual Average Violent Crimes',\n",
       " 'Per capita income growth, 2001-2016',\n",
       " 'Percent of civilian population aged 18-64 that is insured',\n",
       " 'Intensity of volunteerism',\n",
       " 'Worked in County of Residence   rate',\n",
       " 'Share of emp. in top 5 traded industries',\n",
       " 'Adjusted gross income reported on itemized returns rate',\n",
       " 'Percent of returns with taxable Social Security benefits',\n",
       " 'Percent of adults that are obese',\n",
       " 'Share of emp. in the 3rd-largest traded industry  ',\n",
       " 'Percent of population that is low income and has low access to grocery stores',\n",
       " 'Reported instances of violent crime   rate',\n",
       " 'Reported instances of property crime rate',\n",
       " 'Rate Working in County of Residence  ',\n",
       " '2016 population estimate',\n",
       " 'Percent of working-age population that works full-time (35+ hours/week) year-round',\n",
       " 'Total school revenue, thousands of current dollars rate',\n",
       " 'Low-income population with low access to grocery stores rate',\n",
       " 'Number of persons who moved in/out of county in last year from/to any US county/territory rate',\n",
       " 'Percent of the civilian population that is insured']"
      ]
     },
     "execution_count": 4,
     "metadata": {},
     "output_type": "execute_result"
    }
   ],
   "source": [
    "def colinearity_remover(df, max_corr, list_of_keepers = []):\n",
    "    corr = df.corr()\n",
    "    x, y = corr.shape\n",
    "    drop_list = []\n",
    "    target = df.columns[-1]    \n",
    "    \n",
    "    for i in range(x-1):\n",
    "        for j in range (y-1):\n",
    "            if abs(corr.iloc[i, j]) > max_corr and i != j:\n",
    "                if corr[target][i] > corr[target][j]:\n",
    "                    drop_list.append(corr[target].index[j])\n",
    "                else:\n",
    "                    drop_list.append(corr[target].index[i])\n",
    "                                 \n",
    "    drop_list = list(set(drop_list))\n",
    "    \n",
    "    for keeper in list_of_keepers:\n",
    "        drop_list.remove(keeper)\n",
    "    \n",
    "    \n",
    "    \n",
    "    return drop_list\n",
    "\n",
    "drop_list = colinearity_remover(X, 0.67, list_of_keepers = [])\n",
    "drop_list"
   ]
  },
  {
   "cell_type": "code",
   "execution_count": 5,
   "id": "1c0de9d7-4968-4f1b-80ff-259fb839949e",
   "metadata": {},
   "outputs": [
    {
     "name": "stdout",
     "output_type": "stream",
     "text": [
      "The shape of the data before colinearity removal is: (2968, 186)\n",
      "After removal: (2968, 117)\n"
     ]
    }
   ],
   "source": [
    "print(f\"The shape of the data before colinearity removal is: {X.shape}\")\n",
    "X.drop(columns = drop_list, inplace = True)\n",
    "county_x.drop(columns = drop_list, inplace = True)\n",
    "print(f\"After removal: {X.shape}\")"
   ]
  },
  {
   "cell_type": "markdown",
   "id": "7c1fd9bd-ffd7-4491-bd40-aceb35fe1360",
   "metadata": {},
   "source": [
    "The data are split into train and test sets and scaled as our features have vastly different orders of magnitude."
   ]
  },
  {
   "cell_type": "code",
   "execution_count": 6,
   "id": "133df1e1-1d0b-4e99-ab46-072a3ffcec32",
   "metadata": {},
   "outputs": [],
   "source": [
    "X_train, X_test, y_train, y_test = train_test_split(X, y, test_size = 0.3, random_state = 48228)\n",
    "ss = StandardScaler()\n",
    "Z_train = ss.fit_transform(X_train)\n",
    "Z_test = ss.transform(X_test)\n",
    "county_z = ss.transform(county_x)"
   ]
  },
  {
   "cell_type": "markdown",
   "id": "f385ea43-8756-4721-af3c-e50fb118a9ec",
   "metadata": {},
   "source": [
    "First a multi-variate linear model is fitted with optimal tunign parameters determined with a grid search."
   ]
  },
  {
   "cell_type": "code",
   "execution_count": 7,
   "id": "1063c645-b8bd-49be-9742-255194628bf3",
   "metadata": {},
   "outputs": [],
   "source": [
    "alphas = np.linspace(0.0005, 0.0015, 100)\n",
    "enet_ratios = np.linspace(0.21, 0.22, 100)\n",
    "\n",
    "enet = ElasticNetCV(alphas = alphas, l1_ratio=enet_ratios, cv = 5, max_iter = 3000, n_jobs = -1)"
   ]
  },
  {
   "cell_type": "code",
   "execution_count": 8,
   "id": "917ed745-c1c6-4e49-ba91-9972a6895ae2",
   "metadata": {},
   "outputs": [
    {
     "data": {
      "text/plain": [
       "0.0009545454545454546"
      ]
     },
     "execution_count": 8,
     "metadata": {},
     "output_type": "execute_result"
    }
   ],
   "source": [
    "enet.fit(Z_train, y_train)\n",
    "enet.alpha_"
   ]
  },
  {
   "cell_type": "code",
   "execution_count": 9,
   "id": "7925bf80-0359-4354-b140-72a5f8958a59",
   "metadata": {},
   "outputs": [
    {
     "data": {
      "text/plain": [
       "0.2197979797979798"
      ]
     },
     "execution_count": 9,
     "metadata": {},
     "output_type": "execute_result"
    }
   ],
   "source": [
    "enet.l1_ratio_"
   ]
  },
  {
   "cell_type": "markdown",
   "id": "928b4aef-248f-4ba0-8cd6-f901595bf85b",
   "metadata": {},
   "source": [
    "Here we inspect the most important features of the linear model.  Note that these features have the most impact overall, but will not necessarily be the most important features for Wayne County to focus on.  If, for example, Wayne County happens to not have a large porportion of its adults in the \"working\" age range of 18 to 64, this feature will not be important as a goal for Wayne County to focus on."
   ]
  },
  {
   "cell_type": "code",
   "execution_count": 10,
   "id": "7bf51cb9-fe63-48c5-a809-37eff4f5e342",
   "metadata": {},
   "outputs": [
    {
     "data": {
      "text/html": [
       "<div>\n",
       "<style scoped>\n",
       "    .dataframe tbody tr th:only-of-type {\n",
       "        vertical-align: middle;\n",
       "    }\n",
       "\n",
       "    .dataframe tbody tr th {\n",
       "        vertical-align: top;\n",
       "    }\n",
       "\n",
       "    .dataframe thead th {\n",
       "        text-align: right;\n",
       "    }\n",
       "</style>\n",
       "<table border=\"1\" class=\"dataframe\">\n",
       "  <thead>\n",
       "    <tr style=\"text-align: right;\">\n",
       "      <th></th>\n",
       "      <th>parameter</th>\n",
       "      <th>coef</th>\n",
       "      <th>importance</th>\n",
       "    </tr>\n",
       "  </thead>\n",
       "  <tbody>\n",
       "    <tr>\n",
       "      <th>19</th>\n",
       "      <td>Percent of population that didn't work over th...</td>\n",
       "      <td>-0.008419</td>\n",
       "      <td>0.008419</td>\n",
       "    </tr>\n",
       "    <tr>\n",
       "      <th>21</th>\n",
       "      <td>Percent of returns with itemized deductions</td>\n",
       "      <td>0.00585</td>\n",
       "      <td>0.005850</td>\n",
       "    </tr>\n",
       "    <tr>\n",
       "      <th>100</th>\n",
       "      <td>% Smokers</td>\n",
       "      <td>-0.003856</td>\n",
       "      <td>0.003856</td>\n",
       "    </tr>\n",
       "    <tr>\n",
       "      <th>64</th>\n",
       "      <td>Total civilian population aged 18-64 rate</td>\n",
       "      <td>0.0035</td>\n",
       "      <td>0.003500</td>\n",
       "    </tr>\n",
       "    <tr>\n",
       "      <th>23</th>\n",
       "      <td>Percent of returns with salaries and wages</td>\n",
       "      <td>-0.0028</td>\n",
       "      <td>0.002800</td>\n",
       "    </tr>\n",
       "    <tr>\n",
       "      <th>32</th>\n",
       "      <td>Population growth, 2010-2016</td>\n",
       "      <td>0.002669</td>\n",
       "      <td>0.002669</td>\n",
       "    </tr>\n",
       "    <tr>\n",
       "      <th>17</th>\n",
       "      <td>Percent of civilian population aged 25-34 that...</td>\n",
       "      <td>-0.00264</td>\n",
       "      <td>0.002640</td>\n",
       "    </tr>\n",
       "    <tr>\n",
       "      <th>41</th>\n",
       "      <td>Rural-urban continuum code (1-9)</td>\n",
       "      <td>-0.002192</td>\n",
       "      <td>0.002192</td>\n",
       "    </tr>\n",
       "    <tr>\n",
       "      <th>13</th>\n",
       "      <td>Non-rent seeking organizations per 10,000 popu...</td>\n",
       "      <td>0.002075</td>\n",
       "      <td>0.002075</td>\n",
       "    </tr>\n",
       "    <tr>\n",
       "      <th>43</th>\n",
       "      <td>Share of emp. in all local industries</td>\n",
       "      <td>0.001935</td>\n",
       "      <td>0.001935</td>\n",
       "    </tr>\n",
       "  </tbody>\n",
       "</table>\n",
       "</div>"
      ],
      "text/plain": [
       "                                             parameter      coef  importance\n",
       "19   Percent of population that didn't work over th... -0.008419    0.008419\n",
       "21         Percent of returns with itemized deductions   0.00585    0.005850\n",
       "100                                          % Smokers -0.003856    0.003856\n",
       "64           Total civilian population aged 18-64 rate    0.0035    0.003500\n",
       "23          Percent of returns with salaries and wages   -0.0028    0.002800\n",
       "32                        Population growth, 2010-2016  0.002669    0.002669\n",
       "17   Percent of civilian population aged 25-34 that...  -0.00264    0.002640\n",
       "41                    Rural-urban continuum code (1-9) -0.002192    0.002192\n",
       "13   Non-rent seeking organizations per 10,000 popu...  0.002075    0.002075\n",
       "43               Share of emp. in all local industries  0.001935    0.001935"
      ]
     },
     "execution_count": 10,
     "metadata": {},
     "output_type": "execute_result"
    }
   ],
   "source": [
    "enet_coefs = pd.DataFrame([X_train.columns, enet.coef_], index = ['parameter', 'coef']).T\n",
    "enet_coefs['importance'] = enet_coefs['coef'].map(lambda x: abs(x))\n",
    "enet_coefs.sort_values(by = 'importance', ascending = False).head(10)"
   ]
  },
  {
   "cell_type": "markdown",
   "id": "2ed5f257-011c-4c31-83f8-98f1c912835f",
   "metadata": {},
   "source": [
    "Next we look at a K-nearest neighbors regressor."
   ]
  },
  {
   "cell_type": "code",
   "execution_count": 11,
   "id": "96462e24-a155-49da-a87b-d4f9a983f444",
   "metadata": {},
   "outputs": [
    {
     "name": "stdout",
     "output_type": "stream",
     "text": [
      "Fitting 5 folds for each of 4 candidates, totalling 20 fits\n"
     ]
    },
    {
     "data": {
      "text/plain": [
       "{'n_neighbors': 11}"
      ]
     },
     "execution_count": 11,
     "metadata": {},
     "output_type": "execute_result"
    }
   ],
   "source": [
    "knr_params = {\n",
    "    'n_neighbors':range(8,12,1),\n",
    "}\n",
    "\n",
    "knr = GridSearchCV(\n",
    "    KNeighborsRegressor(),\n",
    "    knr_params,\n",
    "    cv=5,\n",
    "    n_jobs = -1,\n",
    "    verbose = 2\n",
    ")\n",
    "\n",
    "knr.fit(Z_train, y_train)\n",
    "knr.best_params_"
   ]
  },
  {
   "cell_type": "markdown",
   "id": "f5b1c4a5-ab0c-44ae-be2c-387beb99a199",
   "metadata": {},
   "source": [
    "Then a random forest model."
   ]
  },
  {
   "cell_type": "code",
   "execution_count": 12,
   "id": "8c4ce6b7-23b6-4d67-b685-477583372a37",
   "metadata": {},
   "outputs": [
    {
     "name": "stdout",
     "output_type": "stream",
     "text": [
      "Fitting 5 folds for each of 25 candidates, totalling 125 fits\n"
     ]
    },
    {
     "data": {
      "text/plain": [
       "{'max_depth': 17, 'max_features': 'auto', 'n_estimators': 99}"
      ]
     },
     "execution_count": 12,
     "metadata": {},
     "output_type": "execute_result"
    }
   ],
   "source": [
    "rfr_params = {\n",
    "    'n_estimators': [93, 95, 97, 99, 101],\n",
    "    'max_depth': [14, 15, 16, 17, 18],\n",
    "    'max_features': ['auto']\n",
    "}\n",
    "\n",
    "rfr = GridSearchCV(\n",
    "    RandomForestRegressor(),\n",
    "    rfr_params,\n",
    "    cv=5,\n",
    "    n_jobs = -1,\n",
    "    verbose = 2\n",
    ")\n",
    "\n",
    "rfr.fit(Z_train, y_train)\n",
    "rfr.best_params_"
   ]
  },
  {
   "cell_type": "markdown",
   "id": "a0995f01-3952-4d04-adf8-1eeba0611065",
   "metadata": {},
   "source": [
    "Finally, an XG boost regressor."
   ]
  },
  {
   "cell_type": "code",
   "execution_count": 13,
   "id": "e9d98e4c-3a15-4dfb-a451-a6b763ec085a",
   "metadata": {},
   "outputs": [
    {
     "name": "stdout",
     "output_type": "stream",
     "text": [
      "Fitting 5 folds for each of 120 candidates, totalling 600 fits\n"
     ]
    },
    {
     "data": {
      "text/plain": [
       "{'max_depth': 3, 'n_estimators': 101, 'reg_alpha': 0.07555555555555556}"
      ]
     },
     "execution_count": 13,
     "metadata": {},
     "output_type": "execute_result"
    }
   ],
   "source": [
    "xg_params = {\n",
    "    'n_estimators': [97, 99, 101, 103],\n",
    "    'max_depth': [2, 3, 4],\n",
    "    'reg_alpha': np.linspace(0.07, 0.08, 10)\n",
    "}\n",
    "\n",
    "xg = GridSearchCV(\n",
    "    XGBRegressor(),\n",
    "    xg_params,\n",
    "    cv=5,\n",
    "    n_jobs = -1,\n",
    "    verbose = 2\n",
    ")\n",
    "\n",
    "xg.fit(Z_train, y_train)\n",
    "xg.best_params_"
   ]
  },
  {
   "cell_type": "markdown",
   "id": "b7b79df9-5cf3-4f96-ab97-574ce182fa9a",
   "metadata": {},
   "source": [
    "The results are summarized below."
   ]
  },
  {
   "cell_type": "code",
   "execution_count": 14,
   "id": "ed98a0e6-63b0-45a1-887a-9b43ad3001fd",
   "metadata": {},
   "outputs": [
    {
     "name": "stdout",
     "output_type": "stream",
     "text": [
      "The R-squared score for the Elastic Net model is: 0.744\n",
      "The root mean squared error for the Elastic Net model is: 0.015 \n",
      "\n",
      "The R-squared score for the K-Nearest model is: 0.507\n",
      "The root mean squared error for the K-Nearest model is: 0.016 \n",
      "\n",
      "The R-squared score for the Random Forest model is: 0.787\n",
      "The root mean squared error for the Random Forest model is: 0.013 \n",
      "\n",
      "The R-squared score for the XG Boost model is: 0.832\n",
      "The root mean squared error for the XG Boost model is: 0.012 \n",
      "\n"
     ]
    }
   ],
   "source": [
    "for name, model in {'Elastic Net': enet, 'K-Nearest': knr, 'Random Forest': rfr, 'XG Boost': xg}.items():\n",
    "    pred = model.predict(Z_test)\n",
    "    r2 = round(metrics.r2_score(pred, y_test), 3)\n",
    "    rmse = round(metrics.mean_squared_error(pred, y_test, squared = False), 3)   \n",
    "    \n",
    "    print(f\"The R-squared score for the {name} model is: {r2}\")\n",
    "    print(f\"The root mean squared error for the {name} model is: {rmse} \\n\")"
   ]
  },
  {
   "cell_type": "markdown",
   "id": "29048a0d-205a-498f-b671-24d0c410b6a1",
   "metadata": {},
   "source": [
    "Note that while the XG Boost model has the best R2 score and root mean square error, we will not carry it forward as the XG Boost model is fairly uninterpretable.  Instead our final report will be constructed from the Elastic Net linear regression.  If predicting HDI as accurately as possible were the most desired goal we would use the XG Boost model.  However, for interpretability the Elastic Net model is vastly preferable despite it's poorer predictive performance."
   ]
  },
  {
   "cell_type": "markdown",
   "id": "f16675b4-51c7-4151-99dc-6982d04c18b8",
   "metadata": {},
   "source": [
    "## Report\n",
    "\n",
    "The report below shows the top 5 areas where Wayne County both underperformes the national average **and** has the most opportunity to improve.  Note that according to our previous results ```Percent of returns with itemized deductions``` was the second most important feature in predicting HDI; however, it does not appear in the top portion of the report.  This is because Wayne County already performs well in this particular category and does not need to \"work\" on this issue.  Instead, a feature like ```% Low birthweight```, which was only the 20th most important feature, appears as the number 4 priority.  This is because Wayne County is significantly below the national average in this parameter and could, therefore, see the largest positive impact on its HDI by focusing on this issue.  \n"
   ]
  },
  {
   "cell_type": "code",
   "execution_count": 15,
   "id": "4e5dfad7-040f-4193-bd03-c0af72bc4ead",
   "metadata": {},
   "outputs": [
    {
     "data": {
      "text/html": [
       "<div>\n",
       "<style scoped>\n",
       "    .dataframe tbody tr th:only-of-type {\n",
       "        vertical-align: middle;\n",
       "    }\n",
       "\n",
       "    .dataframe tbody tr th {\n",
       "        vertical-align: top;\n",
       "    }\n",
       "\n",
       "    .dataframe thead th {\n",
       "        text-align: right;\n",
       "    }\n",
       "</style>\n",
       "<table border=\"1\" class=\"dataframe\">\n",
       "  <thead>\n",
       "    <tr style=\"text-align: right;\">\n",
       "      <th></th>\n",
       "      <th>Mean Value</th>\n",
       "      <th>County Value</th>\n",
       "      <th>County SDs from Mean</th>\n",
       "      <th>Amount of Change</th>\n",
       "      <th>Impact on HDI</th>\n",
       "    </tr>\n",
       "  </thead>\n",
       "  <tbody>\n",
       "    <tr>\n",
       "      <th>Motor Vehicle Theft rate per 100000</th>\n",
       "      <td>106.465</td>\n",
       "      <td>859.079</td>\n",
       "      <td>7.354</td>\n",
       "      <td>752.615</td>\n",
       "      <td>0.006</td>\n",
       "    </tr>\n",
       "    <tr>\n",
       "      <th>Percent of population that didn't work over the past year</th>\n",
       "      <td>26.435</td>\n",
       "      <td>32.402</td>\n",
       "      <td>0.641</td>\n",
       "      <td>5.966</td>\n",
       "      <td>0.005</td>\n",
       "    </tr>\n",
       "    <tr>\n",
       "      <th>% Smokers</th>\n",
       "      <td>21.345</td>\n",
       "      <td>24.000</td>\n",
       "      <td>0.693</td>\n",
       "      <td>2.655</td>\n",
       "      <td>0.003</td>\n",
       "    </tr>\n",
       "    <tr>\n",
       "      <th>% Low birthweight</th>\n",
       "      <td>8.134</td>\n",
       "      <td>11.000</td>\n",
       "      <td>1.580</td>\n",
       "      <td>2.866</td>\n",
       "      <td>0.002</td>\n",
       "    </tr>\n",
       "    <tr>\n",
       "      <th>Population growth, 2010-2016</th>\n",
       "      <td>0.343</td>\n",
       "      <td>-2.911</td>\n",
       "      <td>-0.696</td>\n",
       "      <td>-3.253</td>\n",
       "      <td>0.002</td>\n",
       "    </tr>\n",
       "    <tr>\n",
       "      <th>...</th>\n",
       "      <td>...</td>\n",
       "      <td>...</td>\n",
       "      <td>...</td>\n",
       "      <td>...</td>\n",
       "      <td>...</td>\n",
       "    </tr>\n",
       "    <tr>\n",
       "      <th>% With Access to Exercise Opportunities</th>\n",
       "      <td>64.255</td>\n",
       "      <td>95.000</td>\n",
       "      <td>1.490</td>\n",
       "      <td>30.745</td>\n",
       "      <td>-0.002</td>\n",
       "    </tr>\n",
       "    <tr>\n",
       "      <th>Percent of returns with itemized deductions</th>\n",
       "      <td>21.344</td>\n",
       "      <td>24.243</td>\n",
       "      <td>0.348</td>\n",
       "      <td>2.899</td>\n",
       "      <td>-0.002</td>\n",
       "    </tr>\n",
       "    <tr>\n",
       "      <th>Rural-urban continuum code (1-9)</th>\n",
       "      <td>4.359</td>\n",
       "      <td>1.000</td>\n",
       "      <td>-1.517</td>\n",
       "      <td>-3.359</td>\n",
       "      <td>-0.003</td>\n",
       "    </tr>\n",
       "    <tr>\n",
       "      <th>Total civilian population aged 18-64 rate</th>\n",
       "      <td>0.578</td>\n",
       "      <td>0.617</td>\n",
       "      <td>0.877</td>\n",
       "      <td>0.039</td>\n",
       "      <td>-0.003</td>\n",
       "    </tr>\n",
       "    <tr>\n",
       "      <th>Civilian population aged 25 and up</th>\n",
       "      <td>67527.664</td>\n",
       "      <td>1168342.000</td>\n",
       "      <td>5.004</td>\n",
       "      <td>1100814.336</td>\n",
       "      <td>-0.003</td>\n",
       "    </tr>\n",
       "  </tbody>\n",
       "</table>\n",
       "<p>117 rows × 5 columns</p>\n",
       "</div>"
      ],
      "text/plain": [
       "                                                    Mean Value  County Value  \\\n",
       "Motor Vehicle Theft rate per 100000                    106.465       859.079   \n",
       "Percent of population that didn't work over the...      26.435        32.402   \n",
       "% Smokers                                               21.345        24.000   \n",
       "% Low birthweight                                        8.134        11.000   \n",
       "Population growth, 2010-2016                             0.343        -2.911   \n",
       "...                                                        ...           ...   \n",
       "% With Access to Exercise Opportunities                 64.255        95.000   \n",
       "Percent of returns with itemized deductions             21.344        24.243   \n",
       "Rural-urban continuum code (1-9)                         4.359         1.000   \n",
       "Total civilian population aged 18-64 rate                0.578         0.617   \n",
       "Civilian population aged 25 and up                   67527.664   1168342.000   \n",
       "\n",
       "                                                    County SDs from Mean  \\\n",
       "Motor Vehicle Theft rate per 100000                                7.354   \n",
       "Percent of population that didn't work over the...                 0.641   \n",
       "% Smokers                                                          0.693   \n",
       "% Low birthweight                                                  1.580   \n",
       "Population growth, 2010-2016                                      -0.696   \n",
       "...                                                                  ...   \n",
       "% With Access to Exercise Opportunities                            1.490   \n",
       "Percent of returns with itemized deductions                        0.348   \n",
       "Rural-urban continuum code (1-9)                                  -1.517   \n",
       "Total civilian population aged 18-64 rate                          0.877   \n",
       "Civilian population aged 25 and up                                 5.004   \n",
       "\n",
       "                                                    Amount of Change  \\\n",
       "Motor Vehicle Theft rate per 100000                          752.615   \n",
       "Percent of population that didn't work over the...             5.966   \n",
       "% Smokers                                                      2.655   \n",
       "% Low birthweight                                              2.866   \n",
       "Population growth, 2010-2016                                  -3.253   \n",
       "...                                                              ...   \n",
       "% With Access to Exercise Opportunities                       30.745   \n",
       "Percent of returns with itemized deductions                    2.899   \n",
       "Rural-urban continuum code (1-9)                              -3.359   \n",
       "Total civilian population aged 18-64 rate                      0.039   \n",
       "Civilian population aged 25 and up                       1100814.336   \n",
       "\n",
       "                                                    Impact on HDI  \n",
       "Motor Vehicle Theft rate per 100000                         0.006  \n",
       "Percent of population that didn't work over the...          0.005  \n",
       "% Smokers                                                   0.003  \n",
       "% Low birthweight                                           0.002  \n",
       "Population growth, 2010-2016                                0.002  \n",
       "...                                                           ...  \n",
       "% With Access to Exercise Opportunities                    -0.002  \n",
       "Percent of returns with itemized deductions                -0.002  \n",
       "Rural-urban continuum code (1-9)                           -0.003  \n",
       "Total civilian population aged 18-64 rate                  -0.003  \n",
       "Civilian population aged 25 and up                         -0.003  \n",
       "\n",
       "[117 rows x 5 columns]"
      ]
     },
     "execution_count": 15,
     "metadata": {},
     "output_type": "execute_result"
    }
   ],
   "source": [
    "report = pd.DataFrame(X.mean(), columns = ['Mean Value'])\n",
    "report['County Value'] = county_x.T\n",
    "Z = np.concatenate((Z_train, Z_test), axis = 0)\n",
    "report['County SDs from Mean'] = (county_z - Z.mean(axis = 0)).T\n",
    "report['Amount of Change'] = (ss.inverse_transform(county_z) - ss.inverse_transform(Z.mean(axis = 0))).T\n",
    "report['Impact on HDI'] = ((Z.mean(axis = 0) - county_z) * enet.coef_).T\n",
    "for feature in report.columns:\n",
    "    report[feature] = report[feature].apply(lambda x: round(x,3))\n",
    "report.sort_values(by = 'Impact on HDI', ascending = False)"
   ]
  },
  {
   "cell_type": "markdown",
   "id": "8d81a003-feb9-415d-89a2-d2157fbe60ba",
   "metadata": {},
   "source": [
    "### International Comparison\n",
    "\n",
    "Below we compare Wayne County with the international community as a whole to provide a bit of context.  Note that this analysis needs to be viewed carefully as HDI variability within a nation is often of larger magnitude than the variabilities in the *average* HDI between nations."
   ]
  },
  {
   "cell_type": "code",
   "execution_count": 16,
   "id": "8e942a42-faee-4507-b768-1983434da7ed",
   "metadata": {},
   "outputs": [],
   "source": [
    "def get_hdi(my_hdi):\n",
    "    compare = 1\n",
    "    for i in range(len(hdi)):\n",
    "        this_hdi = hdi.iloc[i, 1]\n",
    "        if abs(my_hdi - this_hdi) < compare:\n",
    "            compare = abs(my_hdi - this_hdi)\n",
    "\n",
    "            country = hdi.iloc[i, 0]\n",
    "        \n",
    "    return country"
   ]
  },
  {
   "cell_type": "code",
   "execution_count": 17,
   "id": "65e45132-b079-4290-9834-19c1fc8220ea",
   "metadata": {},
   "outputs": [
    {
     "name": "stdout",
     "output_type": "stream",
     "text": [
      "With an HDI of 0.841, Wayne County, MI, compared to the international community, currently has an HDI most similar to  Brunei.\n",
      "According to our model, if Wayne County, MI successfully remediated the top 5 items it could have an HDI more simalar to  Slovakia.\n"
     ]
    }
   ],
   "source": [
    "county_hdi = float(df[df['Description'] == county_input]['HDI'])\n",
    "improvement = report.sort_values(by = 'Impact on HDI', ascending = False)['Impact on HDI'][0:4].sum()\n",
    "currently_like = get_hdi(county_hdi) \n",
    "would_be_like = get_hdi(county_hdi + improvement)\n",
    "print(f\"With an HDI of {round(county_hdi, 3)}, {county_input}, compared to the international community, currently has an HDI most similar to {currently_like}.\")\n",
    "print(f\"According to our model, if {county_input} successfully remediated the top 5 items it could have an HDI more simalar to {would_be_like}.\")  "
   ]
  },
  {
   "cell_type": "code",
   "execution_count": 1,
   "id": "d64ada10-8bc3-4559-ac6a-7dcec1264e2f",
   "metadata": {},
   "outputs": [
    {
     "name": "stdin",
     "output_type": "stream",
     "text": [
      "Input County Cook County\n",
      "Input Two Letter State Code IL\n"
     ]
    },
    {
     "name": "stdout",
     "output_type": "stream",
     "text": [
      "With an HDI of 0.894, Cook County, IL, compared to the international community, currently has an HDI most similar to  Malta.\n",
      "According to our model, if Cook County, IL successfully remediated the top 5 items it could have an HDI more simalar to  France.\n"
     ]
    },
    {
     "data": {
      "text/html": [
       "<div>\n",
       "<style scoped>\n",
       "    .dataframe tbody tr th:only-of-type {\n",
       "        vertical-align: middle;\n",
       "    }\n",
       "\n",
       "    .dataframe tbody tr th {\n",
       "        vertical-align: top;\n",
       "    }\n",
       "\n",
       "    .dataframe thead th {\n",
       "        text-align: right;\n",
       "    }\n",
       "</style>\n",
       "<table border=\"1\" class=\"dataframe\">\n",
       "  <thead>\n",
       "    <tr style=\"text-align: right;\">\n",
       "      <th></th>\n",
       "      <th>Mean Value</th>\n",
       "      <th>County Value</th>\n",
       "      <th>County SDs from Mean</th>\n",
       "      <th>Amount of Change</th>\n",
       "      <th>Impact on HDI</th>\n",
       "    </tr>\n",
       "  </thead>\n",
       "  <tbody>\n",
       "    <tr>\n",
       "      <th>Percent of returns with salaries and wages</th>\n",
       "      <td>80.975</td>\n",
       "      <td>83.045</td>\n",
       "      <td>0.448</td>\n",
       "      <td>2.070</td>\n",
       "      <td>0.002</td>\n",
       "    </tr>\n",
       "    <tr>\n",
       "      <th>Motor Vehicle Theft rate per 100000</th>\n",
       "      <td>106.624</td>\n",
       "      <td>386.303</td>\n",
       "      <td>2.614</td>\n",
       "      <td>279.679</td>\n",
       "      <td>0.002</td>\n",
       "    </tr>\n",
       "    <tr>\n",
       "      <th>Non-rent seeking organizations per 10,000 population</th>\n",
       "      <td>12.449</td>\n",
       "      <td>5.542</td>\n",
       "      <td>-1.071</td>\n",
       "      <td>-6.907</td>\n",
       "      <td>0.002</td>\n",
       "    </tr>\n",
       "    <tr>\n",
       "      <th>Standardized score of January mean sunlight</th>\n",
       "      <td>0.003</td>\n",
       "      <td>-0.648</td>\n",
       "      <td>-0.649</td>\n",
       "      <td>-0.651</td>\n",
       "      <td>0.001</td>\n",
       "    </tr>\n",
       "    <tr>\n",
       "      <th>% Low birthweight</th>\n",
       "      <td>8.135</td>\n",
       "      <td>9.000</td>\n",
       "      <td>0.476</td>\n",
       "      <td>0.865</td>\n",
       "      <td>0.001</td>\n",
       "    </tr>\n",
       "    <tr>\n",
       "      <th>...</th>\n",
       "      <td>...</td>\n",
       "      <td>...</td>\n",
       "      <td>...</td>\n",
       "      <td>...</td>\n",
       "      <td>...</td>\n",
       "    </tr>\n",
       "    <tr>\n",
       "      <th>% Smokers</th>\n",
       "      <td>21.348</td>\n",
       "      <td>16.000</td>\n",
       "      <td>-1.387</td>\n",
       "      <td>-5.348</td>\n",
       "      <td>-0.004</td>\n",
       "    </tr>\n",
       "    <tr>\n",
       "      <th>Share of emp. in top 2 local industries</th>\n",
       "      <td>0.175</td>\n",
       "      <td>0.298</td>\n",
       "      <td>2.136</td>\n",
       "      <td>0.123</td>\n",
       "      <td>-0.004</td>\n",
       "    </tr>\n",
       "    <tr>\n",
       "      <th>Total civilian population aged 18-64 rate</th>\n",
       "      <td>0.578</td>\n",
       "      <td>0.639</td>\n",
       "      <td>1.400</td>\n",
       "      <td>0.061</td>\n",
       "      <td>-0.005</td>\n",
       "    </tr>\n",
       "    <tr>\n",
       "      <th>Civilian population aged 25 and up</th>\n",
       "      <td>66726.335</td>\n",
       "      <td>3546688.000</td>\n",
       "      <td>15.677</td>\n",
       "      <td>3479961.665</td>\n",
       "      <td>-0.006</td>\n",
       "    </tr>\n",
       "    <tr>\n",
       "      <th>Percent of returns with itemized deductions</th>\n",
       "      <td>21.342</td>\n",
       "      <td>30.600</td>\n",
       "      <td>1.116</td>\n",
       "      <td>9.258</td>\n",
       "      <td>-0.007</td>\n",
       "    </tr>\n",
       "  </tbody>\n",
       "</table>\n",
       "<p>117 rows × 5 columns</p>\n",
       "</div>"
      ],
      "text/plain": [
       "                                                    Mean Value  County Value  \\\n",
       "Percent of returns with salaries and wages              80.975        83.045   \n",
       "Motor Vehicle Theft rate per 100000                    106.624       386.303   \n",
       "Non-rent seeking organizations per 10,000 popul...      12.449         5.542   \n",
       "Standardized score of January mean sunlight              0.003        -0.648   \n",
       "% Low birthweight                                        8.135         9.000   \n",
       "...                                                        ...           ...   \n",
       "% Smokers                                               21.348        16.000   \n",
       "Share of emp. in top 2 local industries                  0.175         0.298   \n",
       "Total civilian population aged 18-64 rate                0.578         0.639   \n",
       "Civilian population aged 25 and up                   66726.335   3546688.000   \n",
       "Percent of returns with itemized deductions             21.342        30.600   \n",
       "\n",
       "                                                    County SDs from Mean  \\\n",
       "Percent of returns with salaries and wages                         0.448   \n",
       "Motor Vehicle Theft rate per 100000                                2.614   \n",
       "Non-rent seeking organizations per 10,000 popul...                -1.071   \n",
       "Standardized score of January mean sunlight                       -0.649   \n",
       "% Low birthweight                                                  0.476   \n",
       "...                                                                  ...   \n",
       "% Smokers                                                         -1.387   \n",
       "Share of emp. in top 2 local industries                            2.136   \n",
       "Total civilian population aged 18-64 rate                          1.400   \n",
       "Civilian population aged 25 and up                                15.677   \n",
       "Percent of returns with itemized deductions                        1.116   \n",
       "\n",
       "                                                    Amount of Change  \\\n",
       "Percent of returns with salaries and wages                     2.070   \n",
       "Motor Vehicle Theft rate per 100000                          279.679   \n",
       "Non-rent seeking organizations per 10,000 popul...            -6.907   \n",
       "Standardized score of January mean sunlight                   -0.651   \n",
       "% Low birthweight                                              0.865   \n",
       "...                                                              ...   \n",
       "% Smokers                                                     -5.348   \n",
       "Share of emp. in top 2 local industries                        0.123   \n",
       "Total civilian population aged 18-64 rate                      0.061   \n",
       "Civilian population aged 25 and up                       3479961.665   \n",
       "Percent of returns with itemized deductions                    9.258   \n",
       "\n",
       "                                                    Impact on HDI  \n",
       "Percent of returns with salaries and wages                  0.002  \n",
       "Motor Vehicle Theft rate per 100000                         0.002  \n",
       "Non-rent seeking organizations per 10,000 popul...          0.002  \n",
       "Standardized score of January mean sunlight                 0.001  \n",
       "% Low birthweight                                           0.001  \n",
       "...                                                           ...  \n",
       "% Smokers                                                  -0.004  \n",
       "Share of emp. in top 2 local industries                    -0.004  \n",
       "Total civilian population aged 18-64 rate                  -0.005  \n",
       "Civilian population aged 25 and up                         -0.006  \n",
       "Percent of returns with itemized deductions                -0.007  \n",
       "\n",
       "[117 rows x 5 columns]"
      ]
     },
     "execution_count": 1,
     "metadata": {},
     "output_type": "execute_result"
    }
   ],
   "source": [
    "import pandas as pd\n",
    "import numpy as np\n",
    "from sklearn.model_selection import train_test_split\n",
    "from sklearn.preprocessing import StandardScaler\n",
    "from sklearn.linear_model import ElasticNetCV\n",
    "\n",
    "df = pd.read_csv('./data/clean_data.csv')\n",
    "hdi = pd.read_csv('./data/country_hdi.csv')\n",
    "\n",
    "county = input('Input County')\n",
    "state = input('Input Two Letter State Code')\n",
    "county_input = county + ', ' + state\n",
    "county_x = df[df['Description'] == county_input].select_dtypes(include=[np.number]).drop(columns = ['LE', 'II', 'MYS', 'EI', 'HDI'])\n",
    "county_y = df[df['Description'] == county_input]['HDI']\n",
    "\n",
    "X = df[df['Description'] != county_input].select_dtypes(include=[np.number]).drop(columns = ['LE', 'II', 'MYS', 'EI', 'HDI'])\n",
    "y = df[df['Description'] != county_input]['HDI']\n",
    "\n",
    "\n",
    "def colinearity_remover(df, max_corr, list_of_keepers = []):\n",
    "    corr = df.corr()\n",
    "    x, y = corr.shape\n",
    "    drop_list = []\n",
    "    target = df.columns[-1]    \n",
    "    \n",
    "    for i in range(x-1):\n",
    "        for j in range (y-1):\n",
    "            if abs(corr.iloc[i, j]) > max_corr and i != j:\n",
    "                if corr[target][i] > corr[target][j]:\n",
    "                    drop_list.append(corr[target].index[j])\n",
    "                else:\n",
    "                    drop_list.append(corr[target].index[i])\n",
    "                                 \n",
    "    drop_list = list(set(drop_list))\n",
    "    \n",
    "    for keeper in list_of_keepers:\n",
    "        drop_list.remove(keeper)\n",
    "    \n",
    "    \n",
    "    \n",
    "    return drop_list\n",
    "\n",
    "drop_list = colinearity_remover(X, 0.67, list_of_keepers = [])\n",
    "X.drop(columns = drop_list, inplace = True)\n",
    "county_x.drop(columns = drop_list, inplace = True)\n",
    "\n",
    "\n",
    "X_train, X_test, y_train, y_test = train_test_split(X, y, test_size = 0.3, random_state = 48228)\n",
    "ss = StandardScaler()\n",
    "Z_train = ss.fit_transform(X_train)\n",
    "Z_test = ss.transform(X_test)\n",
    "county_z = ss.transform(county_x)\n",
    "\n",
    "\n",
    "alphas = [0.0009545454545454546]\n",
    "enet_ratios = [0.2197979797979798]\n",
    "\n",
    "enet = ElasticNetCV(alphas = alphas, l1_ratio=enet_ratios, cv = 5, max_iter = 3000, n_jobs = -1)\n",
    "\n",
    "enet.fit(Z_train, y_train)\n",
    "\n",
    "report = pd.DataFrame(X.mean(), columns = ['Mean Value'])\n",
    "report['County Value'] = county_x.T\n",
    "Z = np.concatenate((Z_train, Z_test), axis = 0)\n",
    "report['County SDs from Mean'] = (county_z - Z.mean(axis = 0)).T\n",
    "report['Amount of Change'] = (ss.inverse_transform(county_z) - ss.inverse_transform(Z.mean(axis = 0))).T\n",
    "report['Impact on HDI'] = ((Z.mean(axis = 0) - county_z) * enet.coef_).T\n",
    "for feature in report.columns:\n",
    "    report[feature] = report[feature].apply(lambda x: round(x,3))\n",
    "\n",
    "\n",
    "def get_hdi(my_hdi):\n",
    "    compare = 1\n",
    "    for i in range(len(hdi)):\n",
    "        this_hdi = hdi.iloc[i, 1]\n",
    "        if abs(my_hdi - this_hdi) < compare:\n",
    "            compare = abs(my_hdi - this_hdi)\n",
    "\n",
    "            country = hdi.iloc[i, 0]\n",
    "        \n",
    "    return country\n",
    "    \n",
    "county_hdi = float(df[df['Description'] == county_input]['HDI'])\n",
    "improvement = report.sort_values(by = 'Impact on HDI', ascending = False)['Impact on HDI'][0:4].sum()\n",
    "currently_like = get_hdi(county_hdi) \n",
    "would_be_like = get_hdi(county_hdi + improvement)\n",
    "print(f\"With an HDI of {round(county_hdi, 3)}, {county_input}, compared to the international community, currently has an HDI most similar to {currently_like}.\")\n",
    "print(f\"According to our model, if {county_input} successfully remediated the top 5 items it could have an HDI more simalar to {would_be_like}.\")    \n",
    "    \n",
    "report.sort_values(by = 'Impact on HDI', ascending = False)"
   ]
  },
  {
   "cell_type": "markdown",
   "id": "a9cf22e6-c697-44fa-867c-ce91f58cf825",
   "metadata": {},
   "source": [
    "### Conclusion\n",
    "\n",
    "While the HDI of a region is a somewhat reductionist metric, this model does have some advantages in identifying some key metrics where a region is both lagging behind the national average ***and*** where improvement in this metric is likely to have the highest impact on the HDI.  This should not be construed as a definitive way to set priorities, but it is helpful in knowing which areas are worthy of additional research.  So, using the report for Wayne County above, if one wanted to launch an anti-smoking campaign, that does seem likely to be a worthwhile endevour.  Conversely, we see that Wayne County is not lacking in access to exercise facilities so a program to provide gym time to low income residents may not be the best use of time and resources."
   ]
  },
  {
   "cell_type": "code",
   "execution_count": null,
   "id": "00a59e7e-8bf2-4020-89c1-0576038907f9",
   "metadata": {},
   "outputs": [],
   "source": []
  }
 ],
 "metadata": {
  "kernelspec": {
   "display_name": "Python 3",
   "language": "python",
   "name": "python3"
  },
  "language_info": {
   "codemirror_mode": {
    "name": "ipython",
    "version": 3
   },
   "file_extension": ".py",
   "mimetype": "text/x-python",
   "name": "python",
   "nbconvert_exporter": "python",
   "pygments_lexer": "ipython3",
   "version": "3.8.8"
  }
 },
 "nbformat": 4,
 "nbformat_minor": 5
}
